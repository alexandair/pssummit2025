{
 "cells": [
  {
   "cell_type": "markdown",
   "metadata": {
    "language": "markdown"
   },
   "source": [
    "# LAB 01b: Finding Microsoft Graph Commands and Permissions\n",
    "\n",
    "This lab will help you become familiar with using the `Find-MgGraphCommand` and `Find-MgGraphPermission` cmdlets to discover Microsoft Graph PowerShell commands and the permissions they require."
   ]
  },
  {
   "cell_type": "markdown",
   "metadata": {
    "language": "markdown"
   },
   "source": [
    "## Tasks\n",
    "\n",
    "Using the `Find-MgGraphCommand` and `Find-MgGraphPermission` cmdlets, find the following information:\n",
    "\n",
    "1. Find the Microsoft Graph PowerShell command that can be used to modify a group.\n",
    "2. Find out which permissions are required to run that cmdlet.\n",
    "3. Find a command that could retrieve the list of appRoleAssignment that have been granted to a service principal.\n",
    "4. What is the identifier of the `Application.Read.All` permission that is required to run that command in an unattended script?"
   ]
  },
  {
   "cell_type": "markdown",
   "metadata": {
    "language": "markdown"
   },
   "source": [
    "## Task 1: Find the Microsoft Graph PowerShell command that can be used to modify a group\n",
    "\n",
    "You can search for commands by URI or by command name pattern."
   ]
  },
  {
   "cell_type": "code",
   "execution_count": null,
   "metadata": {
    "polyglot_notebook": {
     "kernelName": "pwsh"
    },
    "vscode": {
     "languageId": "polyglot-notebook"
    }
   },
   "outputs": [],
   "source": [
    "# Search for all commands with the noun -MgGroup using -Uri\n",
    "Find-MgGraphCommand -Uri '*/groups/*'"
   ]
  },
  {
   "cell_type": "code",
   "execution_count": null,
   "metadata": {
    "polyglot_notebook": {
     "kernelName": "pwsh"
    },
    "vscode": {
     "languageId": "polyglot-notebook"
    }
   },
   "outputs": [],
   "source": [
    "# We need to target the existing group that has an ID\n",
    "Find-MgGraphCommand -Uri '/groups/{id}'"
   ]
  },
  {
   "cell_type": "code",
   "execution_count": null,
   "metadata": {
    "polyglot_notebook": {
     "kernelName": "pwsh"
    },
    "vscode": {
     "languageId": "polyglot-notebook"
    }
   },
   "outputs": [],
   "source": [
    "# Filter by HTTP method to find PATCH operations\n",
    "Find-MgGraphCommand -Uri '/groups/{id}' -Method PATCH"
   ]
  },
  {
   "cell_type": "code",
   "execution_count": null,
   "metadata": {
    "polyglot_notebook": {
     "kernelName": "pwsh"
    },
    "vscode": {
     "languageId": "polyglot-notebook"
    }
   },
   "outputs": [],
   "source": [
    "# Alternatively, search by command pattern\n",
    "Find-MgGraphCommand -Command '*mggroup*'"
   ]
  },
  {
   "cell_type": "markdown",
   "metadata": {
    "language": "markdown"
   },
   "source": [
    "## Task 2: Find out which permissions are required to run that cmdlet\n",
    "\n",
    "Once we've identified that `Update-MgGroup` is the command we're looking for, we can find the required permissions."
   ]
  },
  {
   "cell_type": "code",
   "execution_count": null,
   "metadata": {
    "polyglot_notebook": {
     "kernelName": "pwsh"
    },
    "vscode": {
     "languageId": "polyglot-notebook"
    }
   },
   "outputs": [],
   "source": [
    "# Method 1: Get permissions by URI\n",
    "Find-MgGraphCommand -Uri '/groups/{id}' -Method PATCH -APIVersion v1.0 | Select-Object -ExpandProperty Permissions"
   ]
  },
  {
   "cell_type": "code",
   "execution_count": null,
   "metadata": {
    "polyglot_notebook": {
     "kernelName": "pwsh"
    },
    "vscode": {
     "languageId": "polyglot-notebook"
    }
   },
   "outputs": [],
   "source": [
    "# Method 2: Get permissions by command name\n",
    "# Pay attention to the `IsLeastPrivilege` property, which indicates whether the permission is a least privilege permission\n",
    "Find-MgGraphCommand -Command Update-MgGroup | Select-Object -ExpandProperty Permissions | Format-List"
   ]
  },
  {
   "cell_type": "markdown",
   "metadata": {
    "language": "markdown"
   },
   "source": [
    "## Task 3: Find a command that could retrieve the list of appRoleAssignments that have been granted to a service principal\n",
    "\n",
    "We can search for commands related to service principals and app role assignments."
   ]
  },
  {
   "cell_type": "code",
   "execution_count": null,
   "metadata": {
    "polyglot_notebook": {
     "kernelName": "pwsh"
    },
    "vscode": {
     "languageId": "polyglot-notebook"
    }
   },
   "outputs": [],
   "source": [
    "# Search using wildcards in URI\n",
    "Find-MgGraphCommand -Uri '/servicePrincipals/{id}/.*'"
   ]
  },
  {
   "cell_type": "code",
   "execution_count": null,
   "metadata": {
    "polyglot_notebook": {
     "kernelName": "pwsh"
    },
    "vscode": {
     "languageId": "polyglot-notebook"
    }
   },
   "outputs": [],
   "source": [
    "# Narrow down the search to app-related endpoints\n",
    "Find-MgGraphCommand -Uri '/servicePrincipals/{id}/app.*'"
   ]
  },
  {
   "cell_type": "code",
   "execution_count": null,
   "metadata": {
    "polyglot_notebook": {
     "kernelName": "pwsh"
    },
    "vscode": {
     "languageId": "polyglot-notebook"
    }
   },
   "outputs": [],
   "source": [
    "# Get specific command for appRoleAssignments\n",
    "Find-MgGraphCommand -Uri '/servicePrincipals/{servicePrincipal-id}/appRoleAssignments' -Method GET"
   ]
  },
  {
   "cell_type": "code",
   "execution_count": null,
   "metadata": {
    "polyglot_notebook": {
     "kernelName": "pwsh"
    },
    "vscode": {
     "languageId": "polyglot-notebook"
    }
   },
   "outputs": [],
   "source": [
    "# Alternative approach using command name wildcards\n",
    "# BUG: This command does not return the expected results. It should return the Beta commands, too.\n",
    "Find-MgGraphCommand -Command get-mg*serviceprincipal*approleassignment | Format-List"
   ]
  },
  {
   "cell_type": "code",
   "execution_count": null,
   "metadata": {
    "polyglot_notebook": {
     "kernelName": "pwsh"
    },
    "vscode": {
     "languageId": "polyglot-notebook"
    }
   },
   "outputs": [],
   "source": [
    "# Verify the command existence using Get-Command\n",
    "Get-Command get-mg*servicePrincipal*appRoleAssignment*"
   ]
  },
  {
   "cell_type": "markdown",
   "metadata": {
    "language": "markdown"
   },
   "source": [
    "## Task 4: Find the identifier of the Application.Read.All permission\n",
    "\n",
    "For unattended scripts, application permissions are required. Let's find the identifier for the Application.Read.All permission."
   ]
  },
  {
   "cell_type": "code",
   "execution_count": null,
   "metadata": {
    "polyglot_notebook": {
     "kernelName": "pwsh"
    },
    "vscode": {
     "languageId": "polyglot-notebook"
    }
   },
   "outputs": [],
   "source": [
    "# Get the identifier for Application.Read.All application permission\n",
    "Find-MgGraphPermission -SearchString Application.Read.All -ExactMatch -PermissionType Application"
   ]
  },
  {
   "cell_type": "markdown",
   "metadata": {
    "language": "markdown"
   },
   "source": [
    "## Summary\n",
    "\n",
    "In this lab, you've learned how to:\n",
    "\n",
    "1. Find Microsoft Graph PowerShell commands using URI patterns and command name patterns\n",
    "2. Determine the required permissions for Microsoft Graph operations\n",
    "3. Search for specific API endpoints and commands for service principal app role assignments\n",
    "4. Find permission identifiers for use in application authentication scenarios\n",
    "\n",
    "These skills are essential when working with Microsoft Graph PowerShell to manage Microsoft Entra ID resources."
   ]
  }
 ],
 "metadata": {
  "kernelspec": {
   "display_name": ".NET (C#)",
   "language": "C#",
   "name": ".net-csharp"
  },
  "language_info": {
   "codemirror_mode": "shell",
   "file_extension": ".ps1",
   "mimetype": "text/x-sh",
   "name": "powershell"
  },
  "polyglot_notebook": {
   "kernelInfo": {
    "defaultKernelName": "csharp",
    "items": [
     {
      "aliases": [],
      "name": "csharp"
     }
    ]
   }
  }
 },
 "nbformat": 4,
 "nbformat_minor": 5
}
