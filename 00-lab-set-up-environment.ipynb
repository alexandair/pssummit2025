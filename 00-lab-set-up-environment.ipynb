{
 "cells": [
  {
   "cell_type": "markdown",
   "id": "cdce081a",
   "metadata": {},
   "source": [
    "# LAB: How to set up your environment"
   ]
  },
  {
   "cell_type": "markdown",
   "id": "c1194ac3",
   "metadata": {},
   "source": [
    "## Install the required applications\n",
    "\n",
    "Perform the following steps on your lab VM.\n",
    "\n",
    "Install/update Windows Package Manager (winget) via App Installer using the instructions at\n",
    "https://learn.microsoft.com/en-us/windows/package-manager/winget/#install-winget\n",
    "\n",
    "Install the required applications using Windows Package Manager (winget)."
   ]
  },
  {
   "cell_type": "code",
   "execution_count": null,
   "id": "b0f1fc4f",
   "metadata": {
    "polyglot_notebook": {
     "kernelName": "pwsh"
    },
    "vscode": {
     "languageId": "polyglot-notebook"
    }
   },
   "outputs": [],
   "source": [
    "winget install Microsoft.PowerShell # UAC is required\n",
    "winget install Git.Git\n",
    "winget install Microsoft.VisualStudioCode\n",
    "winget install Microsoft.DotNet.SDK.9 # UAC is required"
   ]
  },
  {
   "cell_type": "markdown",
   "id": "65254a1d",
   "metadata": {},
   "source": [
    "Proceed with the installation of Visual Studio Code extensions."
   ]
  },
  {
   "cell_type": "markdown",
   "id": "eff1f24c",
   "metadata": {},
   "source": [
    "## Install Visual Studio Code extensions\n",
    "\n",
    "Run the following commands."
   ]
  },
  {
   "cell_type": "code",
   "execution_count": null,
   "id": "b93ff8ff",
   "metadata": {
    "polyglot_notebook": {
     "kernelName": "pwsh"
    },
    "vscode": {
     "languageId": "polyglot-notebook"
    }
   },
   "outputs": [],
   "source": [
    "# Installation of the Visual Studio Code extensions from the command line\n",
    "code --install-extension ms-vscode.powershell # PowerShell\n",
    "code --install-extension ms-dotnettools.dotnet-interactive-vscode # Polyglot Notebooks"
   ]
  },
  {
   "cell_type": "markdown",
   "id": "ec087d26",
   "metadata": {},
   "source": [
    "More details about the extension:\n",
    "\n",
    "[PowerShell](https://marketplace.visualstudio.com/items?itemName=ms-vscode.PowerShell)\n",
    "\n",
    "[Polyglot Notebooks](https://marketplace.visualstudio.com/items/?itemName=ms-dotnettools.dotnet-interactive-vscode)"
   ]
  },
  {
   "cell_type": "markdown",
   "id": "f36cfe8b",
   "metadata": {},
   "source": [
    "## Download the lab files from the pssummit2025 GitHub repo"
   ]
  },
  {
   "cell_type": "code",
   "execution_count": null,
   "id": "90886055",
   "metadata": {
    "polyglot_notebook": {
     "kernelName": "pwsh"
    },
    "vscode": {
     "languageId": "polyglot-notebook"
    }
   },
   "outputs": [],
   "source": [
    "cd\\\n",
    "mkdir gh && cd gh\n",
    "git clone https://github.com/alexandair/pssummit2025\n",
    "cd pssummit2025\n",
    "# open Visual Studio Code; click 'Yes, I trust the authors'\n",
    "code ."
   ]
  }
 ],
 "metadata": {
  "kernelspec": {
   "display_name": ".NET (C#)",
   "language": "C#",
   "name": ".net-csharp"
  },
  "language_info": {
   "name": "csharp"
  },
  "polyglot_notebook": {
   "kernelInfo": {
    "defaultKernelName": "csharp",
    "items": [
     {
      "aliases": [],
      "name": "csharp"
     }
    ]
   }
  }
 },
 "nbformat": 4,
 "nbformat_minor": 5
}
