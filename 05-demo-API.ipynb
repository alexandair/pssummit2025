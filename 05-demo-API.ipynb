{
 "cells": [
  {
   "cell_type": "markdown",
   "id": "07c44c1c",
   "metadata": {},
   "source": [
    "# Lab 05: Working with Microsoft Graph REST API\n",
    "\n",
    "This lab will guide you through using the Microsoft Graph REST API directly from PowerShell using the Microsoft Graph PowerShell SDK. You will learn how to make direct REST calls, work with JSON batching, and understand how to use access tokens with Invoke-RestMethod."
   ]
  },
  {
   "cell_type": "markdown",
   "id": "f82fe166",
   "metadata": {},
   "source": [
    "## Required Permissions\n",
    "\n",
    "The permissions needed will vary based on the API endpoints you're accessing. For this lab, we'll be working with:\n",
    "\n",
    "- **User.Read** - For accessing the `/me` endpoint\n",
    "- **AuditLog.Read.All** - For accessing sign-in logs\n",
    "- **Group.Read.All** - For accessing group information"
   ]
  },
  {
   "cell_type": "markdown",
   "id": "80163dd0",
   "metadata": {},
   "source": [
    "## Authentication with Microsoft Graph\n",
    "\n",
    "Before you can perform any operations, you need to authenticate to Microsoft Graph."
   ]
  },
  {
   "cell_type": "code",
   "execution_count": null,
   "id": "453aae73",
   "metadata": {
    "polyglot_notebook": {
     "kernelName": "pwsh"
    },
    "vscode": {
     "languageId": "polyglot-notebook"
    }
   },
   "outputs": [],
   "source": [
    "# Required modules\n",
    "# Import-Module Microsoft.Graph.Users\n",
    "# Import-Module Microsoft.Graph.Groups\n",
    "# Import-Module Microsoft.Graph.Applications\n",
    "\n",
    "# Connect to Microsoft Graph with the required permissions\n",
    "Connect-MgGraph -Scopes \"User.Read\", \"AuditLog.Read.All\", \"Group.Read.All\"\n",
    "\n",
    "# Verify the connection and permissions\n",
    "Get-MgContext"
   ]
  },
  {
   "cell_type": "markdown",
   "id": "1b0bde70",
   "metadata": {},
   "source": [
    "## Section 1: Overview of REST API Calls with Microsoft Graph PowerShell SDK\n",
    "\n",
    "The Microsoft Graph PowerShell SDK provides cmdlets that wrap the Graph API endpoints. However, sometimes you need to directly access the REST API when:\n",
    "\n",
    "1. A specific API doesn't have a dedicated cmdlet yet\n",
    "2. You need more control over the request/response\n",
    "3. You're working with advanced query parameters or beta endpoints\n",
    "4. You want to batch multiple requests for efficiency\n",
    "\n",
    "The primary tool for this is the `Invoke-MgGraphRequest` cmdlet. Let's look at its syntax:"
   ]
  },
  {
   "cell_type": "code",
   "execution_count": null,
   "id": "9bc9fc7d",
   "metadata": {
    "polyglot_notebook": {
     "kernelName": "pwsh"
    },
    "vscode": {
     "languageId": "polyglot-notebook"
    }
   },
   "outputs": [],
   "source": [
    "# View the syntax of Invoke-MgGraphRequest cmdlet\n",
    "Get-Command Invoke-MgGraphRequest -Syntax"
   ]
  },
  {
   "cell_type": "markdown",
   "id": "1970d46d",
   "metadata": {},
   "source": [
    "### Understanding Graph API URIs\n",
    "\n",
    "Microsoft Graph URLs follow this structure:\n",
    "\n",
    "```\n",
    "https://graph.microsoft.com/{version}/{resource}?{query-parameters}\n",
    "```\n",
    "\n",
    "Where:\n",
    "- **version**: Either `v1.0` (stable) or `beta` (preview)\n",
    "- **resource**: The API resource path (e.g., `/users`, `/me`, `/groups`)\n",
    "- **query-parameters**: Optional OData parameters like `$select`, `$filter`, `$expand`, etc.\n",
    "\n",
    "For example, to get information about the current user:\n",
    "```\n",
    "https://graph.microsoft.com/v1.0/me\n",
    "```\n",
    "\n",
    "Or to get a specific user by ID:\n",
    "```\n",
    "https://graph.microsoft.com/v1.0/users/{id}\n",
    "```"
   ]
  },
  {
   "cell_type": "markdown",
   "id": "a87d747e",
   "metadata": {},
   "source": [
    "### Finding the Right REST URI\n",
    "\n",
    "To find the right API endpoints and parameters, you can use:\n",
    "\n",
    "1. **Graph Explorer**: https://developer.microsoft.com/en-us/graph/graph-explorer (or https://aka.ms/ge)\n",
    "2. **Microsoft Graph documentation**: https://docs.microsoft.com/en-us/graph/api/overview\n",
    "3. **Graph X-Ray**: A browser extension that shows Graph API calls made by the Azure and Entra portals"
   ]
  },
  {
   "cell_type": "markdown",
   "id": "deccc9a9",
   "metadata": {},
   "source": [
    "## Section 2: Task with Invoke-MgGraphRequest\n",
    "\n",
    "Let's practice using `Invoke-MgGraphRequest` to make direct API calls. We'll start with simple calls and then explore different output types."
   ]
  },
  {
   "cell_type": "code",
   "execution_count": null,
   "id": "6828e9c9",
   "metadata": {
    "polyglot_notebook": {
     "kernelName": "pwsh"
    },
    "vscode": {
     "languageId": "polyglot-notebook"
    }
   },
   "outputs": [],
   "source": [
    "# Example 1: Get current user information from v1.0 endpoint\n",
    "Invoke-MgGraphRequest -Method GET -Uri \"https://graph.microsoft.com/v1.0/me\""
   ]
  },
  {
   "cell_type": "code",
   "execution_count": null,
   "id": "fa7c31da",
   "metadata": {
    "polyglot_notebook": {
     "kernelName": "pwsh"
    },
    "vscode": {
     "languageId": "polyglot-notebook"
    }
   },
   "outputs": [],
   "source": [
    "# Example 2: Get more detailed user information from beta endpoint\n",
    "Invoke-MgGraphRequest -Method GET -Uri \"https://graph.microsoft.com/beta/me\""
   ]
  },
  {
   "cell_type": "code",
   "execution_count": null,
   "id": "2972f824",
   "metadata": {
    "polyglot_notebook": {
     "kernelName": "pwsh"
    },
    "vscode": {
     "languageId": "polyglot-notebook"
    }
   },
   "outputs": [],
   "source": [
    "# Example 3: Select specific properties with $select\n",
    "Invoke-MgGraphRequest -Method GET -Uri \"https://graph.microsoft.com/v1.0/me?$select=displayName,mail,jobTitle,department\""
   ]
  },
  {
   "cell_type": "markdown",
   "id": "aac82edc",
   "metadata": {},
   "source": [
    "### Exploring Different Output Types\n",
    "\n",
    "`Invoke-MgGraphRequest` supports different output formats with the `-OutputType` parameter:\n",
    "\n",
    "- **HashTable** (default): Returns a PowerShell hashtable\n",
    "- **HttpResponseMessage**: Returns the full HTTP response including headers\n",
    "- **Json**: Returns raw JSON string\n",
    "- **PSObject**: Returns PowerShell objects"
   ]
  },
  {
   "cell_type": "code",
   "execution_count": null,
   "id": "5fd7aacd",
   "metadata": {
    "polyglot_notebook": {
     "kernelName": "pwsh"
    },
    "vscode": {
     "languageId": "polyglot-notebook"
    }
   },
   "outputs": [],
   "source": [
    "# Try different output types\n",
    "# Default HashTable output\n",
    "Invoke-MgGraphRequest -Method GET -Uri \"/beta/me\" -OutputType HashTable"
   ]
  },
  {
   "cell_type": "code",
   "execution_count": null,
   "id": "601be136",
   "metadata": {
    "polyglot_notebook": {
     "kernelName": "pwsh"
    },
    "vscode": {
     "languageId": "polyglot-notebook"
    }
   },
   "outputs": [],
   "source": [
    "# HttpResponseMessage output (includes headers, status, etc.)\n",
    "$response = Invoke-MgGraphRequest -Method GET -Uri \"/beta/me\" -OutputType HttpResponseMessage\n",
    "# View response properties\n",
    "$response | Get-Member\n",
    "# View status code\n",
    "$response.StatusCode"
   ]
  },
  {
   "cell_type": "code",
   "execution_count": null,
   "id": "e55c30b4",
   "metadata": {
    "polyglot_notebook": {
     "kernelName": "pwsh"
    },
    "vscode": {
     "languageId": "polyglot-notebook"
    }
   },
   "outputs": [],
   "source": [
    "# JSON output\n",
    "$jsonResponse = Invoke-MgGraphRequest -Method GET -Uri \"/beta/me\" -OutputType Json\n",
    "# Convert from JSON to view it nicely\n",
    "$jsonResponse | ConvertFrom-Json | Format-List"
   ]
  },
  {
   "cell_type": "code",
   "execution_count": null,
   "id": "f868804a",
   "metadata": {
    "polyglot_notebook": {
     "kernelName": "pwsh"
    },
    "vscode": {
     "languageId": "polyglot-notebook"
    }
   },
   "outputs": [],
   "source": [
    "# PSObject output\n",
    "$psObject = Invoke-MgGraphRequest -Method GET -Uri \"/beta/me\" -OutputType PSObject\n",
    "$psObject | Get-Member\n",
    "$psObject | Format-List"
   ]
  },
  {
   "cell_type": "markdown",
   "id": "c028229d",
   "metadata": {},
   "source": [
    "### Exercise: Working with Groups API\n",
    "\n",
    "Now, try to use `Invoke-MgGraphRequest` to retrieve information about a group and its members. First, let's list some groups to get an ID to work with."
   ]
  },
  {
   "cell_type": "code",
   "execution_count": null,
   "id": "cd09e63b",
   "metadata": {
    "polyglot_notebook": {
     "kernelName": "pwsh"
    },
    "vscode": {
     "languageId": "polyglot-notebook"
    }
   },
   "outputs": [],
   "source": [
    "# List groups to find an ID to work with\n",
    "$groups = Invoke-MgGraphRequest -Method GET -Uri 'https://graph.microsoft.com/v1.0/groups?$select=id,displayName,mailEnabled,securityEnabled&$top=5' -OutputType PSObject\n",
    "$groups.value | Format-Table id, displayName, mailEnabled, securityEnabled\n",
    "\n",
    "# Store the first group ID for later use (choose a different one if needed)\n",
    "$groupId = $groups.value[0].id"
   ]
  },
  {
   "cell_type": "code",
   "execution_count": null,
   "id": "1008ad46",
   "metadata": {
    "polyglot_notebook": {
     "kernelName": "pwsh"
    },
    "vscode": {
     "languageId": "polyglot-notebook"
    }
   },
   "outputs": [],
   "source": [
    "# Get detailed information about this group\n",
    "$groupInfo = Invoke-MgGraphRequest -Method GET -Uri \"https://graph.microsoft.com/v1.0/groups/$($groupId)?`$select=id,displayName,description,createdDateTime,mail,mailEnabled,mailNickname,securityEnabled\" -OutputType PSObject\n",
    "$groupInfo | Format-List"
   ]
  },
  {
   "cell_type": "code",
   "execution_count": null,
   "id": "8309de63",
   "metadata": {
    "polyglot_notebook": {
     "kernelName": "pwsh"
    },
    "vscode": {
     "languageId": "polyglot-notebook"
    }
   },
   "outputs": [],
   "source": [
    "# Get members of this group\n",
    "$groupMembers = Invoke-MgGraphRequest -Method GET -Uri \"https://graph.microsoft.com/v1.0/groups/$($groupId)/members?`$select=id,displayName,userPrincipalName,mail\" -OutputType PSObject\n",
    "$groupMembers.value | Format-Table displayName, userPrincipalName, mail"
   ]
  },
  {
   "cell_type": "markdown",
   "id": "08ee43b2",
   "metadata": {},
   "source": [
    "## Section 3: JSON Batching\n",
    "\n",
    "Microsoft Graph supports JSON batching, which allows you to combine multiple requests into a single HTTP request. This is useful for reducing network overhead and improving performance.\n",
    "\n",
    "Let's create a batch request to fetch different types of sign-in events."
   ]
  },
  {
   "cell_type": "code",
   "execution_count": null,
   "id": "f7b0ea90",
   "metadata": {
    "polyglot_notebook": {
     "kernelName": "pwsh"
    },
    "vscode": {
     "languageId": "polyglot-notebook"
    }
   },
   "outputs": [],
   "source": [
    "# Define dates for the query (adjust as needed)\n",
    "$startDate = (Get-Date).AddDays(-30).ToString(\"yyyy-MM-ddT00:00:00Z\")\n",
    "$endDate = Get-Date -Format \"yyyy-MM-ddT23:59:59Z\"\n",
    "\n",
    "# Create a batch request to fetch different sign-in event types\n",
    "$batchRequest = @{\n",
    "    requests = @(\n",
    "        @{\n",
    "            id = \"interactive\"\n",
    "            method = \"GET\"\n",
    "            url = \"/auditLogs/signIns?`$filter=createdDateTime ge $startDate and createdDateTime le $endDate&`$top=5\"\n",
    "        },\n",
    "        @{\n",
    "            id = \"nonInteractive\"\n",
    "            method = \"GET\"\n",
    "            url = \"/auditLogs/signIns?`$filter=createdDateTime ge $startDate and createdDateTime le $endDate and signInEventTypes/any(t:t eq 'nonInteractiveUser')&`$top=5\"\n",
    "        },\n",
    "        @{\n",
    "            id = \"servicePrincipal\"\n",
    "            method = \"GET\"\n",
    "            url = \"/auditLogs/signIns?`$filter=createdDateTime ge $startDate and createdDateTime le $endDate and signInEventTypes/any(t:t eq 'servicePrincipal')&`$top=5\"\n",
    "        },\n",
    "        @{\n",
    "            id = \"managedIdentity\"\n",
    "            method = \"GET\"\n",
    "            url = \"/auditLogs/signIns?`$filter=createdDateTime ge $startDate and createdDateTime le $endDate and signInEventTypes/any(t:t eq 'managedIdentity')&`$top=5\"\n",
    "        }\n",
    "    )\n",
    "}"
   ]
  },
  {
   "cell_type": "code",
   "execution_count": null,
   "id": "a072da48",
   "metadata": {
    "polyglot_notebook": {
     "kernelName": "pwsh"
    },
    "vscode": {
     "languageId": "polyglot-notebook"
    }
   },
   "outputs": [],
   "source": [
    "# Send the batch request to Microsoft Graph\n",
    "$batchResponse = Invoke-MgGraphRequest -Uri 'https://graph.microsoft.com/beta/$batch' -Method POST -Headers @{\n",
    "    'Content-Type' = 'application/json'\n",
    "} -Body ($batchRequest | ConvertTo-Json -Depth 4)\n",
    "\n",
    "# Display response overview\n",
    "$batchResponse.responses | Select-Object id, status, @{Name='Count';Expression={$_.body['value'].Count}} | Format-Table"
   ]
  },
  {
   "cell_type": "code",
   "execution_count": null,
   "id": "e4252da5",
   "metadata": {
    "polyglot_notebook": {
     "kernelName": "pwsh"
    },
    "vscode": {
     "languageId": "polyglot-notebook"
    }
   },
   "outputs": [],
   "source": [
    "# Convert responses to PSCustomObjects for easier processing\n",
    "$Responses = $batchResponse.responses | ForEach-Object {\n",
    "    [pscustomobject]$_\n",
    "}\n",
    "\n",
    "# View service principal sign-ins (first one)\n",
    "$Responses | Where-Object id -eq 'servicePrincipal' | Select-Object -ExpandProperty body | \n",
    "    Select-Object -ExpandProperty value | Select-Object -First 1 | \n",
    "    Select-Object createdDateTime, appDisplayName, appId, ipAddress, status"
   ]
  },
  {
   "cell_type": "code",
   "execution_count": null,
   "id": "2e857cc9",
   "metadata": {
    "polyglot_notebook": {
     "kernelName": "pwsh"
    },
    "vscode": {
     "languageId": "polyglot-notebook"
    }
   },
   "outputs": [],
   "source": [
    "# Try with PSObject output type\n",
    "$batchResponse = Invoke-MgGraphRequest -Uri 'https://graph.microsoft.com/beta/$batch' -Method POST -Headers @{\n",
    "    'Content-Type' = 'application/json'\n",
    "} -Body ($batchRequest | ConvertTo-Json -Depth 4) -OutputType PSObject\n",
    "\n",
    "# View interactive sign-ins\n",
    "$interactiveSignIns = $batchResponse.responses | Where-Object id -eq 'interactive' | \n",
    "    Select-Object -ExpandProperty body | Select-Object -ExpandProperty value\n",
    "\n",
    "$interactiveSignIns | Select-Object createdDateTime, userDisplayName, userPrincipalName, appDisplayName, status | Format-Table"
   ]
  },
  {
   "cell_type": "markdown",
   "id": "c62f793b",
   "metadata": {},
   "source": [
    "### Exercise: Create Your Own Batch Request\n",
    "\n",
    "Now, create your own batch request that combines different operations. For example, try to get:\n",
    "1. Your user profile\n",
    "2. Your recent emails (if you have Mail.Read permission)\n",
    "3. A list of groups you belong to"
   ]
  },
  {
   "cell_type": "code",
   "execution_count": null,
   "id": "8992a46d",
   "metadata": {
    "polyglot_notebook": {
     "kernelName": "pwsh"
    },
    "vscode": {
     "languageId": "polyglot-notebook"
    }
   },
   "outputs": [],
   "source": [
    "# Create your own batch request here\n",
    "$myBatchRequest = @{\n",
    "    requests = @(\n",
    "        @{\n",
    "            id = \"profile\"\n",
    "            method = \"GET\"\n",
    "            url = '/me?$select=displayName,jobTitle,mail,officeLocation'\n",
    "        },\n",
    "        @{\n",
    "            id = \"memberOf\"\n",
    "            method = \"GET\"\n",
    "            url = '/me/memberOf?$select=id,displayName&$top=5'\n",
    "        }\n",
    "        # Add more requests as needed\n",
    "    )\n",
    "}\n",
    "\n",
    "# Send your batch request\n",
    "$myBatchResponse = Invoke-MgGraphRequest -Uri 'https://graph.microsoft.com/v1.0/$batch' -Method POST -Body ($myBatchRequest | ConvertTo-Json -Depth 4) -OutputType PSObject -Headers @{\n",
    "    'Content-Type' = 'application/json'\n",
    "}\n",
    "\n",
    "# Process the responses\n",
    "$myBatchResponse.responses | ForEach-Object {\n",
    "    Write-Host \"ID: $($_.id) - Status: $($_.status)\" -ForegroundColor Cyan\n",
    "    if ($_.body) {\n",
    "        if ($_.id -eq \"profile\") {\n",
    "            $_.body | Format-List\n",
    "        } elseif ($_.id -eq \"memberOf\") {\n",
    "            $_.body.value | Format-Table displayName\n",
    "        }\n",
    "    }\n",
    "}"
   ]
  },
  {
   "cell_type": "markdown",
   "id": "37c390b2",
   "metadata": {},
   "source": [
    "## Section 4: Bonus Task - Working with Access Tokens and Invoke-RestMethod\n",
    "\n",
    "Sometimes, you might want to extract the access token from your Microsoft Graph session and use it with `Invoke-RestMethod`. This is useful when:\n",
    "\n",
    "1. You need more control over the HTTP request\n",
    "2. You want to use the same token with other REST APIs\n",
    "3. You're building a script that will run in environments without the Microsoft Graph PowerShell SDK"
   ]
  },
  {
   "cell_type": "code",
   "execution_count": null,
   "id": "616fa488",
   "metadata": {
    "polyglot_notebook": {
     "kernelName": "pwsh"
    },
    "vscode": {
     "languageId": "polyglot-notebook"
    }
   },
   "outputs": [],
   "source": [
    "# First, get an access token by making any request with the HttpResponseMessage output type\n",
    "$data = Invoke-MgGraphRequest -Uri \"https://graph.microsoft.com/v1.0/me\" -Method GET -OutputType HttpResponseMessage\n",
    "\n",
    "# Extract the token from the Authorization header\n",
    "$token = $data.RequestMessage.Headers.Authorization.Parameter\n",
    "\n",
    "# Show first few characters of the token (never display the full token in logs or outputs)\n",
    "\"Token: $($token.Substring(0, 15))...\" "
   ]
  },
  {
   "cell_type": "code",
   "execution_count": null,
   "id": "8007d28f",
   "metadata": {
    "polyglot_notebook": {
     "kernelName": "pwsh"
    },
    "vscode": {
     "languageId": "polyglot-notebook"
    }
   },
   "outputs": [],
   "source": [
    "# Now use this token with Invoke-RestMethod\n",
    "$headers = @{ Authorization = \"Bearer $token\" }\n",
    "\n",
    "# Make a request to get current user information\n",
    "$response = Invoke-RestMethod -Uri \"https://graph.microsoft.com/v1.0/me\" -Headers $headers -Method GET\n",
    "$response | Format-List"
   ]
  },
  {
   "cell_type": "code",
   "execution_count": null,
   "id": "3e4f9371",
   "metadata": {
    "polyglot_notebook": {
     "kernelName": "pwsh"
    },
    "vscode": {
     "languageId": "polyglot-notebook"
    }
   },
   "outputs": [],
   "source": [
    "# Try another request to list your groups\n",
    "$response = Invoke-RestMethod -Uri \"https://graph.microsoft.com/v1.0/me/memberOf?`$select=displayName,mailEnabled,securityEnabled&`$top=5\" -Headers $headers -Method GET\n",
    "$response.value | Format-Table displayName, mailEnabled, securityEnabled"
   ]
  },
  {
   "cell_type": "markdown",
   "id": "48904635",
   "metadata": {},
   "source": [
    "### Examine Token Information (Optional)\n",
    "\n",
    "If you want to examine the claims in the token, you can decode it using the following code:"
   ]
  },
  {
   "cell_type": "code",
   "execution_count": null,
   "id": "a107d251",
   "metadata": {
    "polyglot_notebook": {
     "kernelName": "pwsh"
    },
    "vscode": {
     "languageId": "polyglot-notebook"
    }
   },
   "outputs": [],
   "source": [
    "function Parse-JWTtoken {\n",
    "    param([string]$token)\n",
    "    \n",
    "    # Split the token parts\n",
    "    $tokenParts = $token.Split('.')\n",
    "    \n",
    "    # Base64 decode and convert to JSON\n",
    "    $decodedToken = [System.Text.Encoding]::UTF8.GetString([System.Convert]::FromBase64String(($tokenParts[1].Replace('-', '+').Replace('_', '/') + ('=' * (4 - $tokenParts[1].Length % 4)))))  \n",
    "    \n",
    "    # Convert from JSON\n",
    "    return $decodedToken | ConvertFrom-Json\n",
    "}\n",
    "function Decode-JwtToken {\n",
    "    param (\n",
    "        [string]$token\n",
    "    )\n",
    "\n",
    "    $parts = $token -split '\\.'\n",
    "    $payload = $parts[1]\n",
    "    $padding = $payload.Length % 4\n",
    "    if ($padding -ne 0) {\n",
    "        $payload += '=' * (4 - $padding)\n",
    "    }\n",
    "    $decodedPayload = [System.Text.Encoding]::UTF8.GetString([Convert]::FromBase64String($payload))\n",
    "    $jsonPayload = $decodedPayload | ConvertFrom-Json\n",
    "    return $jsonPayload\n",
    "}\n",
    "\n",
    "# Parse the token\n",
    "$decodedToken = Decode-JWTtoken -token $token\n",
    "\n",
    "# Display key claims\n",
    "$decodedToken | Select-Object -Property name, upn, oid, roles, scp | Format-List"
   ]
  },
  {
   "cell_type": "markdown",
   "id": "aef9423e",
   "metadata": {},
   "source": [
    "## Conclusion\n",
    "\n",
    "In this lab, you've learned how to:\n",
    "\n",
    "1. Make direct REST API calls to Microsoft Graph using `Invoke-MgGraphRequest`\n",
    "2. Work with different output formats to process responses\n",
    "3. Use JSON batching to combine multiple requests\n",
    "4. Extract and use access tokens with `Invoke-RestMethod`\n",
    "\n",
    "These skills will help you work with Microsoft Graph more efficiently and access APIs that might not be covered by dedicated cmdlets yet."
   ]
  }
 ],
 "metadata": {
  "kernelspec": {
   "display_name": ".NET (C#)",
   "language": "C#",
   "name": ".net-csharp"
  },
  "language_info": {
   "name": "csharp"
  },
  "polyglot_notebook": {
   "kernelInfo": {
    "defaultKernelName": "csharp",
    "items": [
     {
      "aliases": [],
      "name": "csharp"
     }
    ]
   }
  }
 },
 "nbformat": 4,
 "nbformat_minor": 5
}
