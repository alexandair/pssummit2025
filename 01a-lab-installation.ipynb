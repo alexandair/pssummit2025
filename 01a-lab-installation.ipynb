{
 "cells": [
  {
   "cell_type": "markdown",
   "id": "6b2c98cc",
   "metadata": {},
   "source": [
    "# LAB 01a: Microsoft Entra PowerShell Module Setup\n",
    "\n",
    "This lab guides you through checking your PowerShell version, examining installed Microsoft Graph and Entra modules, and installing the required Microsoft Entra modules."
   ]
  },
  {
   "cell_type": "markdown",
   "id": "58cacc1c",
   "metadata": {},
   "source": [
    "## Step 1: Check PowerShell Version and Installed Modules\n",
    "\n",
    "Run the cell below to verify your PowerShell version and check which Microsoft Graph and Entra modules are already installed."
   ]
  },
  {
   "cell_type": "code",
   "execution_count": null,
   "id": "f9c192f4",
   "metadata": {
    "polyglot_notebook": {
     "kernelName": "pwsh"
    }
   },
   "outputs": [],
   "source": [
    "$PSVersionTable\n",
    "Get-Module Microsoft.Graph* -ListAvailable | Format-Table Name, Version\n",
    "Get-Module Microsoft.Entra* -ListAvailable | Format-Table Name, Version"
   ]
  },
  {
   "cell_type": "markdown",
   "id": "549dd5d0",
   "metadata": {},
   "source": [
    "## Step 2: View PowerShell Module Path\n",
    "\n",
    "This cell shows your PowerShell module paths where modules are or will be installed."
   ]
  },
  {
   "cell_type": "code",
   "execution_count": null,
   "id": "9c01ed20",
   "metadata": {
    "polyglot_notebook": {
     "kernelName": "pwsh"
    }
   },
   "outputs": [],
   "source": [
    "$env:PSModulePath -split ';'"
   ]
  },
  {
   "cell_type": "markdown",
   "id": "f9d53d71",
   "metadata": {},
   "source": [
    "## Step 3: Install Microsoft Entra Modules\n",
    "\n",
    "This cell installs both the Microsoft.Entra and Microsoft.Entra.Beta PowerShell modules.\n",
    "Answer \"Y\" if asked about the untrusted repository.\n",
    "\n",
    "**Note:** This may take a few minutes to complete. The `-Verbose` flag provides detailed information during installation."
   ]
  },
  {
   "cell_type": "code",
   "execution_count": null,
   "id": "c422410f",
   "metadata": {
    "polyglot_notebook": {
     "kernelName": "pwsh"
    }
   },
   "outputs": [],
   "source": [
    "Install-Module -Name Microsoft.Entra -Repository PSGallery -Scope CurrentUser -Force -AllowClobber -Verbose\n",
    "Install-Module -Name Microsoft.Entra.Beta -Repository PSGallery -Scope CurrentUser -Force -AllowClobber -Verbose"
   ]
  },
  {
   "cell_type": "markdown",
   "id": "dc080398",
   "metadata": {},
   "source": [
    "## Step 4: Connect to Microsoft Entra\n",
    "\n",
    "Run the cell below to connect to Microsoft Entra. You'll need to authenticate in the popup window."
   ]
  },
  {
   "cell_type": "code",
   "execution_count": null,
   "id": "00b81b43",
   "metadata": {
    "polyglot_notebook": {
     "kernelName": "pwsh"
    }
   },
   "outputs": [],
   "source": [
    "Connect-MgGraph"
   ]
  },
  {
   "cell_type": "markdown",
   "id": "1c4a80c9",
   "metadata": {},
   "source": [
    "## Step 5: Verify Connection and Run Basic Commands\n",
    "\n",
    "Test that your connection is working by running some basic commands."
   ]
  },
  {
   "cell_type": "code",
   "execution_count": null,
   "id": "4c3c1747",
   "metadata": {
    "polyglot_notebook": {
     "kernelName": "pwsh"
    }
   },
   "outputs": [],
   "source": [
    "# Get current signed-in user information\n",
    "Get-MgUser -UserId (Get-MgContext).Account | Select-Object DisplayName, UserPrincipalName, Id"
   ]
  },
  {
   "cell_type": "code",
   "execution_count": null,
   "id": "55ec1391",
   "metadata": {
    "polyglot_notebook": {
     "kernelName": "pwsh"
    }
   },
   "outputs": [],
   "source": [
    "# List available commands from the Microsoft.Graph.Authentication module\n",
    "Get-Command -Module Microsoft.Graph.Authentication | Sort-Object Noun"
   ]
  },
  {
   "cell_type": "markdown",
   "id": "a5e2fc63",
   "metadata": {},
   "source": [
    "## Step 6: Disconnect When Done\n",
    "\n",
    "Always disconnect from Microsoft Entra when you're finished working."
   ]
  },
  {
   "cell_type": "code",
   "execution_count": null,
   "id": "f1df3822",
   "metadata": {
    "polyglot_notebook": {
     "kernelName": "pwsh"
    }
   },
   "outputs": [],
   "source": [
    "Disconnect-MgGraph"
   ]
  }
 ],
 "metadata": {
  "kernelspec": {
   "display_name": ".NET (PowerShell)",
   "language": "PowerShell",
   "name": ".net-pwsh"
  },
  "language_info": {
   "name": "polyglot-notebook"
  },
  "polyglot_notebook": {
   "kernelInfo": {
    "defaultKernelName": "pwsh",
    "items": [
     {
      "aliases": [],
      "languageName": "pwsh",
      "name": "pwsh"
     }
    ]
   }
  }
 },
 "nbformat": 4,
 "nbformat_minor": 5
}
