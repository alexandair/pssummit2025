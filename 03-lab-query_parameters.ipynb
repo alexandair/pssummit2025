{
 "cells": [
  {
   "cell_type": "markdown",
   "id": "4b4b8fc1",
   "metadata": {},
   "source": [
    "# LAB 03: Query Parameters and Advanced Queries in Microsoft Graph PowerShell\n",
    "\n",
    "This lab will help you learn how to use query parameters and advanced queries in the Microsoft Graph PowerShell SDK. You'll practice using filter expressions, sorting, pagination, and advanced query techniques to efficiently retrieve data from Microsoft Graph."
   ]
  },
  {
   "cell_type": "markdown",
   "id": "a857318f",
   "metadata": {},
   "source": [
    "## Prerequisites\n",
    "\n",
    "Before beginning this lab, ensure you have the following:\n",
    "\n",
    "1. The Microsoft Graph PowerShell SDK installed\n",
    "2. Appropriate permissions to query Microsoft Graph\n",
    "\n",
    "Run the cell below to check your installation and connect to Microsoft Graph:"
   ]
  },
  {
   "cell_type": "code",
   "execution_count": null,
   "id": "1db2f29d",
   "metadata": {
    "polyglot_notebook": {
     "kernelName": "pwsh"
    },
    "vscode": {
     "languageId": "polyglot-notebook"
    }
   },
   "outputs": [],
   "source": [
    "# Check if already connected\n",
    "$context = Get-MgContext\n",
    "if (!$context) {\n",
    "    # Connect to Microsoft Graph with required scopes\n",
    "    Connect-MgGraph -Scopes \"User.Read.All\", \"Group.Read.All\", \"Application.Read.All\", \"Directory.Read.All\"\n",
    "}\n",
    "\n",
    "# Display connection information\n",
    "Get-MgContext | Format-List AppName, TenantId, Scopes"
   ]
  },
  {
   "cell_type": "markdown",
   "id": "d1529c82",
   "metadata": {},
   "source": [
    "## Understanding Query Parameters\n",
    "\n",
    "Microsoft Graph API supports various query parameters that allow you to customize your requests:\n",
    "\n",
    "- **$select**: Choose which properties to include in the results\n",
    "- **$filter**: Filter results based on specific criteria\n",
    "- **$orderby**: Sort results by one or more properties\n",
    "- **$top**: Limit the number of items returned\n",
    "- **$skip**: Skip a certain number of items\n",
    "- **$count**: Include a count of items\n",
    "- **$expand**: Include related resources\n",
    "- **$search**: Search across specific properties\n",
    "\n",
    "In PowerShell, these parameters are available as named parameters on the corresponding cmdlets."
   ]
  },
  {
   "cell_type": "markdown",
   "id": "9758251b",
   "metadata": {},
   "source": [
    "## Lab Tasks\n",
    "\n",
    "In this lab, you will complete the following tasks:\n",
    "\n",
    "1. Order service principals in ascending order by 'DisplayName' and return the top 10 results\n",
    "2. Find users without a job title\n",
    "3. Find users with the Office 365 E5 licenses\n",
    "4. Get all users without assigned licenses\n",
    "5. Find security groups\n",
    "\n",
    "For each task, we'll explore the approach, explain the solution, and provide the PowerShell commands."
   ]
  },
  {
   "cell_type": "markdown",
   "id": "5af8621d",
   "metadata": {},
   "source": [
    "## Task 1: Order Service Principals by DisplayName\n",
    "\n",
    "In this task, we'll retrieve service principals ordered by their display name in ascending order and limit the results to the top 10.\n",
    "\n",
    "### Understanding the Approach\n",
    "\n",
    "To complete this task, we need to:\n",
    "1. Use the `Get-MgServicePrincipal` cmdlet\n",
    "2. Apply ordering with the `-OrderBy` parameter\n",
    "3. Limit results with the `-Top` parameter\n",
    "4. Use `-ConsistencyLevel eventual` and `-CountVariable` for advanced query support\n",
    "\n",
    "### Step-by-step Solution"
   ]
  },
  {
   "cell_type": "code",
   "execution_count": null,
   "id": "d1583cdc",
   "metadata": {
    "polyglot_notebook": {
     "kernelName": "pwsh"
    },
    "vscode": {
     "languageId": "polyglot-notebook"
    }
   },
   "outputs": [],
   "source": [
    "# Step 1: Basic approach - This will NOT work correctly because OrderBy requires advanced query support\n",
    "Write-Host \"Attempting to order service principals without advanced query support:\" -ForegroundColor Cyan\n",
    "try {\n",
    "    Get-MgServicePrincipal -OrderBy DisplayName -Top 10\n",
    "} catch {\n",
    "    Write-Host \"Error: $($_.Exception.Message)\" -ForegroundColor Red\n",
    "}"
   ]
  },
  {
   "cell_type": "code",
   "execution_count": null,
   "id": "ac752456",
   "metadata": {
    "polyglot_notebook": {
     "kernelName": "pwsh"
    },
    "vscode": {
     "languageId": "polyglot-notebook"
    }
   },
   "outputs": [],
   "source": [
    "# Step 2: Correct approach using advanced query parameters\n",
    "Write-Host \"Ordering service principals with advanced query support:\" -ForegroundColor Green\n",
    "\n",
    "# Order service principals in ascending order by DisplayName and return the top 10\n",
    "$servicePrincipals = Get-MgServicePrincipal -OrderBy DisplayName -Top 10 -ConsistencyLevel eventual -CountVariable count\n",
    "\n",
    "# Display results in a formatted table\n",
    "$servicePrincipals | Select-Object DisplayName, Id, AppId | Format-Table -AutoSize\n",
    "\n",
    "# Show total count for context\n",
    "Write-Host \"Returned $($servicePrincipals.Count) out of a total of $count service principals\" -ForegroundColor Yellow"
   ]
  },
  {
   "cell_type": "markdown",
   "id": "daf5446b",
   "metadata": {},
   "source": [
    "### Explanation\n",
    "\n",
    "In the solution above:\n",
    "\n",
    "1. We used `-OrderBy DisplayName` to sort the results in ascending order by display name\n",
    "2. `-Top 10` limits the results to only 10 items\n",
    "3. `-ConsistencyLevel eventual` enables advanced query capabilities\n",
    "4. `-CountVariable count` stores the total count of matching items\n",
    "\n",
    "The `-ConsistencyLevel eventual` parameter is required when using certain query options like `-OrderBy` with directory objects. This tells the API that we're willing to accept eventual consistency for more advanced query capabilities."
   ]
  },
  {
   "cell_type": "markdown",
   "id": "5efed195",
   "metadata": {},
   "source": [
    "## Task 2: Find Users Without a Job Title\n",
    "\n",
    "In this task, we'll find all users who don't have a job title specified.\n",
    "\n",
    "### Understanding the Approach\n",
    "\n",
    "To find users without a job title, we need to:\n",
    "1. Use the `Get-MgUser` cmdlet\n",
    "2. Apply a filter for users where `jobTitle eq null`\n",
    "3. Use advanced query parameters since filtering on null values requires advanced query support\n",
    "\n",
    "### Step-by-step Solution"
   ]
  },
  {
   "cell_type": "code",
   "execution_count": null,
   "id": "192a970f",
   "metadata": {
    "polyglot_notebook": {
     "kernelName": "pwsh"
    },
    "vscode": {
     "languageId": "polyglot-notebook"
    }
   },
   "outputs": [],
   "source": [
    "# Step 1: Attempt without advanced query support - This will NOT work\n",
    "Write-Host \"Attempting to find users without a job title without advanced query support:\" -ForegroundColor Cyan\n",
    "try {\n",
    "    Get-MgUser -Filter \"jobTitle eq null\" -Top 3\n",
    "} catch {\n",
    "    Write-Host \"Error: $($_.Exception.Message)\" -ForegroundColor Red\n",
    "}"
   ]
  },
  {
   "cell_type": "code",
   "execution_count": null,
   "id": "4190b219",
   "metadata": {
    "polyglot_notebook": {
     "kernelName": "pwsh"
    },
    "vscode": {
     "languageId": "polyglot-notebook"
    }
   },
   "outputs": [],
   "source": [
    "# Step 2: Correct approach using advanced query parameters\n",
    "Write-Host \"Finding users without a job title with advanced query support:\" -ForegroundColor Green\n",
    "\n",
    "# Find users without a job title\n",
    "$usersWithoutJobTitle = Get-MgUser -Filter \"jobTitle eq null\" -ConsistencyLevel eventual -CountVariable count -Top 10\n",
    "\n",
    "# Display results\n",
    "$usersWithoutJobTitle | Select-Object DisplayName, UserPrincipalName | Format-Table\n",
    "\n",
    "# Show total count\n",
    "Write-Host \"Found $count users without a job title (showing first 10)\" -ForegroundColor Yellow"
   ]
  },
  {
   "cell_type": "markdown",
   "id": "c10adf15",
   "metadata": {},
   "source": [
    "### Explanation\n",
    "\n",
    "In the solution above:\n",
    "\n",
    "1. We used `-Filter \"jobTitle eq null\"` to find users without a job title\n",
    "2. The `-ConsistencyLevel eventual` parameter was required because filtering on null values is an advanced query feature\n",
    "3. `-CountVariable count` stores the total count of matching users\n",
    "\n",
    "Note: Filtering on null values is only supported when using advanced query parameters with `-ConsistencyLevel eventual`."
   ]
  },
  {
   "cell_type": "markdown",
   "id": "a31c2045",
   "metadata": {},
   "source": [
    "## Task 3: Find Users with Office 365 E5 Licenses\n",
    "\n",
    "In this task, we'll find users who have been assigned the Office 365 E5 license, which has the SKU ID `c42b9cae-ea4f-4ab7-9717-81576235ccac`.\n",
    "\n",
    "### Understanding the Approach\n",
    "\n",
    "To find users with a specific license, we need to:\n",
    "1. Use the `Get-MgUser` cmdlet\n",
    "2. Apply a filter that checks the `assignedLicenses` **collection**\n",
    "3. Use the `any` operator to check if any item in the collection matches our criteria\n",
    "\n",
    "### Step-by-step Solution"
   ]
  },
  {
   "cell_type": "code",
   "execution_count": null,
   "id": "26a03742",
   "metadata": {
    "polyglot_notebook": {
     "kernelName": "pwsh"
    },
    "vscode": {
     "languageId": "polyglot-notebook"
    }
   },
   "outputs": [],
   "source": [
    "# Step 1: Define the Office 365 E5 SKU ID\n",
    "$e5SkuId = \"c42b9cae-ea4f-4ab7-9717-81576235ccac\"\n",
    "\n",
    "# Step 2: Find users with the Office 365 E5 license using the any operator\n",
    "Write-Host \"Finding users with Office 365 E5 licenses:\" -ForegroundColor Green\n",
    "try {\n",
    "    # Method 1: Hardcoded SKU ID in the filter\n",
    "    $usersWithE5_method1 = Get-MgUser -Filter \"assignedLicenses/any(x:x/skuId eq c42b9cae-ea4f-4ab7-9717-81576235ccac)\" -All\n",
    "    \n",
    "    # Method 2: Using a variable in the filter\n",
    "    $usersWithE5_method2 = Get-MgUser -Filter \"assignedLicenses/any(x:x/skuId eq $e5SkuId)\" -All\n",
    "    \n",
    "    # Display results\n",
    "    $usersWithE5_method2 | Select-Object DisplayName, UserPrincipalName | Format-Table\n",
    "    \n",
    "    # Show total count\n",
    "    Write-Host \"Found $($usersWithE5_method2.Count) users with Office 365 E5 licenses\" -ForegroundColor Yellow\n",
    "} catch {\n",
    "    Write-Host \"Error: $($_.Exception.Message)\" -ForegroundColor Red\n",
    "}"
   ]
  },
  {
   "cell_type": "markdown",
   "id": "17e74231",
   "metadata": {},
   "source": [
    "### Explanation\n",
    "\n",
    "In the solution above:\n",
    "\n",
    "1. We defined the Office 365 E5 SKU ID as a variable for clarity\n",
    "2. We used `-Filter \"assignedLicenses/any(x:x/skuId eq $e5SkuId)\"` to find users with that license\n",
    "3. The filter uses the `any` operator to check each item in the assignedLicenses collection\n",
    "4. We showed two methods: hardcoding the GUID and using a variable\n",
    "\n",
    "The `/any()` operator is used for filtering on collections. The syntax is:\n",
    "```\n",
    "collectionProperty/any(variable:variable/subProperty eq 'value')\n",
    "```\n",
    "collectionProperty: The collection-valued property you are filtering on.\n",
    "\n",
    "variable: An iterator representing each item in the collection during evaluation.\n",
    "\n",
    "subProperty: A property of the collection item to evaluate.\n",
    "\n",
    "'value': The value to compare against"
   ]
  },
  {
   "cell_type": "markdown",
   "id": "76aa30f6",
   "metadata": {},
   "source": [
    "## Task 4: Get All Users Without Assigned Licenses\n",
    "\n",
    "In this task, we'll find users who don't have any licenses assigned.\n",
    "\n",
    "### Understanding the Approach\n",
    "\n",
    "To find users without licenses, we need to:\n",
    "1. Use the `Get-MgUser` cmdlet\n",
    "2. Check if the assignedLicenses collection is empty using `$count eq 0`\n",
    "3. Use advanced query parameters for this type of filter\n",
    "\n",
    "### Step-by-step Solution"
   ]
  },
  {
   "cell_type": "code",
   "execution_count": null,
   "id": "0bf77dd6",
   "metadata": {
    "polyglot_notebook": {
     "kernelName": "pwsh"
    },
    "vscode": {
     "languageId": "polyglot-notebook"
    }
   },
   "outputs": [],
   "source": [
    "# Step 1: Incorrect approach that will fail\n",
    "Write-Host \"Attempting an incorrect approach:\" -ForegroundColor Cyan\n",
    "try {\n",
    "    Get-MgUser -Filter \"assignedLicenses/any(s:s/skuId eq null)\" -Top 3 -ConsistencyLevel eventual -CountVariable countIncorrect -ea 0\n",
    "} catch {\n",
    "    Write-Error \"Error: $($_.Exception.Message)\"\n",
    "}"
   ]
  },
  {
   "cell_type": "code",
   "execution_count": null,
   "id": "aea44913",
   "metadata": {
    "polyglot_notebook": {
     "kernelName": "pwsh"
    },
    "vscode": {
     "languageId": "polyglot-notebook"
    }
   },
   "outputs": [],
   "source": [
    "# Step 2: Correct approach using $count eq 0\n",
    "Write-Host \"Finding users without licenses (correct approach):\" -ForegroundColor Green\n",
    "\n",
    "# Need to escape $ in PowerShell string\n",
    "$usersWithoutLicenses = Get-MgUser -Filter \"assignedLicenses/`$count eq 0\" -ConsistencyLevel eventual -CountVariable countVar -Top 10\n",
    "\n",
    "# Display results\n",
    "$usersWithoutLicenses | Select-Object DisplayName, UserPrincipalName | Format-Table\n",
    "\n",
    "# Show total count\n",
    "Write-Host \"Found $countVar users without licenses (showing first 10)\" -ForegroundColor Yellow"
   ]
  },
  {
   "cell_type": "markdown",
   "id": "d67c9027",
   "metadata": {},
   "source": [
    "### Explanation\n",
    "\n",
    "In the solution above:\n",
    "\n",
    "1. We first showed an incorrect approach that tries to use `eq null` inside an `any` clause, which isn't supported\n",
    "2. The correct approach uses ``-Filter \"assignedLicenses/`$count eq 0\"`` to find users with an empty assignedLicenses collection\n",
    "3. Note the backtick (\\`) used to escape the dollar sign in the PowerShell string\n",
    "4. We used `-ConsistencyLevel eventual` because this type of filter requires advanced query support\n",
    "\n",
    "The `/$count eq 0` syntax is a special filter that checks if a collection property is empty. This is the proper way to find users with no licenses assigned."
   ]
  },
  {
   "cell_type": "markdown",
   "id": "ebdd6057",
   "metadata": {},
   "source": [
    "## Task 5: Find Security Groups\n",
    "\n",
    "In this task, we'll find all security-enabled groups in the tenant.\n",
    "\n",
    "### Understanding the Approach\n",
    "\n",
    "To find security groups, we need to:\n",
    "1. Use the `Get-MgGroup` cmdlet\n",
    "2. Apply a filter for groups where `securityEnabled eq true`\n",
    "\n",
    "### Step-by-step Solution"
   ]
  },
  {
   "cell_type": "code",
   "execution_count": null,
   "id": "42e0439e",
   "metadata": {
    "polyglot_notebook": {
     "kernelName": "pwsh"
    },
    "vscode": {
     "languageId": "polyglot-notebook"
    }
   },
   "outputs": [],
   "source": [
    "# Find security groups\n",
    "Write-Host \"Finding security groups:\" -ForegroundColor Green\n",
    "\n",
    "# Simple filter for security-enabled groups\n",
    "$securityGroups = Get-MgGroup -Filter \"securityEnabled eq true\" -All\n",
    "\n",
    "# Display results\n",
    "$securityGroups | Select-Object DisplayName, Description, Id | Format-Table\n",
    "\n",
    "# Show total count\n",
    "Write-Host \"Found $($securityGroups.Count) security groups\" -ForegroundColor Yellow"
   ]
  },
  {
   "cell_type": "markdown",
   "id": "a1229f77",
   "metadata": {},
   "source": [
    "### Explanation\n",
    "\n",
    "In the solution above:\n",
    "\n",
    "1. We used `-Filter \"securityEnabled eq true\"` to find security-enabled groups\n",
    "2. The `-All` parameter ensures we get all matching groups, not just the default page\n",
    "3. The `securityEnabled` is a boolean property, so we filter with `eq true`\n",
    "\n",
    "This filter is simpler than the others and doesn't require advanced query support because it's a straightforward comparison of a boolean property."
   ]
  },
  {
   "cell_type": "markdown",
   "id": "1ffec180",
   "metadata": {},
   "source": [
    "## Additional Task: Combining Filters for More Complex Queries\n",
    "\n",
    "Let's explore how to combine filters for more complex scenarios.\n",
    "\n",
    "### Example: Find security groups that are also mail-enabled"
   ]
  },
  {
   "cell_type": "code",
   "execution_count": null,
   "id": "efef4835",
   "metadata": {
    "polyglot_notebook": {
     "kernelName": "pwsh"
    },
    "vscode": {
     "languageId": "polyglot-notebook"
    }
   },
   "outputs": [],
   "source": [
    "# Find security groups that are also mail-enabled\n",
    "Write-Host \"Finding security groups that are also mail-enabled:\" -ForegroundColor Green\n",
    "\n",
    "# Combine filters with logical operators\n",
    "$securityMailGroups = Get-MgGroup -Filter \"securityEnabled eq true and mailEnabled eq true\" -All\n",
    "\n",
    "# Display results\n",
    "$securityMailGroups | Select-Object DisplayName, Description, Id | Format-Table\n",
    "\n",
    "# Show total count\n",
    "Write-Host \"Found $($securityMailGroups.Count) security groups that are also mail-enabled\" -ForegroundColor Yellow"
   ]
  },
  {
   "cell_type": "markdown",
   "id": "7d7d310d",
   "metadata": {},
   "source": [
    "### Example: Find Guest Users Without Job Titles"
   ]
  },
  {
   "cell_type": "code",
   "execution_count": null,
   "id": "71b98416",
   "metadata": {
    "polyglot_notebook": {
     "kernelName": "pwsh"
    },
    "vscode": {
     "languageId": "polyglot-notebook"
    }
   },
   "outputs": [],
   "source": [
    "# Find guest users without job titles\n",
    "Write-Host \"Finding guest users without job titles:\" -ForegroundColor Green\n",
    "\n",
    "# Combine multiple conditions\n",
    "$guestUsersWithoutJobTitle = Get-MgUser -Filter \"userType eq 'Guest' and jobTitle eq null\" -ConsistencyLevel eventual -CountVariable countGuests\n",
    "\n",
    "# Display results\n",
    "$guestUsersWithoutJobTitle | Select-Object DisplayName, UserPrincipalName | Format-Table\n",
    "\n",
    "# Show total count\n",
    "Write-Host \"Found $countGuests guest users without job titles\" -ForegroundColor Yellow"
   ]
  },
  {
   "cell_type": "markdown",
   "id": "7598dd46",
   "metadata": {},
   "source": [
    "## Summary\n",
    "\n",
    "In this lab, you've learned how to:\n",
    "\n",
    "1. Use `-OrderBy` parameter to sort results\n",
    "2. Use `-Filter` parameter with various operators and conditions\n",
    "3. Work with null values in filters\n",
    "4. Use the `/any()` operator to filter on collection properties\n",
    "5. Use the `/$count` operator to check if a collection is empty\n",
    "6. Enable advanced query capabilities with `-ConsistencyLevel eventual`\n",
    "7. Combine multiple conditions in filters\n",
    "\n",
    "These techniques will help you efficiently query and retrieve data from Microsoft Graph using the PowerShell SDK."
   ]
  },
  {
   "cell_type": "markdown",
   "id": "63396f1f",
   "metadata": {},
   "source": [
    "## Clean Up\n",
    "\n",
    "When you're done with the lab, disconnect from Microsoft Graph:"
   ]
  },
  {
   "cell_type": "code",
   "execution_count": null,
   "id": "b86cb50a",
   "metadata": {
    "polyglot_notebook": {
     "kernelName": "pwsh"
    },
    "vscode": {
     "languageId": "polyglot-notebook"
    }
   },
   "outputs": [],
   "source": [
    "Disconnect-MgGraph"
   ]
  }
 ],
 "metadata": {
  "kernelspec": {
   "display_name": ".NET (C#)",
   "language": "C#",
   "name": ".net-csharp"
  },
  "language_info": {
   "name": "csharp"
  },
  "polyglot_notebook": {
   "kernelInfo": {
    "defaultKernelName": "csharp",
    "items": [
     {
      "aliases": [],
      "name": "csharp"
     }
    ]
   }
  }
 },
 "nbformat": 4,
 "nbformat_minor": 5
}
