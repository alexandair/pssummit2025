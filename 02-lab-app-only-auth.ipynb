{
 "cells": [
  {
   "cell_type": "markdown",
   "id": "cb01f7d2",
   "metadata": {},
   "source": [
    "# LAB 02: App-Only Authentication with Microsoft Graph PowerShell SDK\n",
    "\n",
    "This lab guides you through configuring app-only access for a simple script to list users and groups in your Microsoft 365 tenant."
   ]
  },
  {
   "cell_type": "markdown",
   "id": "44ff1631",
   "metadata": {},
   "source": [
    "## Step 1: Create Self-Signed Certificate\n",
    "\n",
    "Use this method to authenticate from an application running from your machine. For example, authenticate from PowerShell 7 or Windows PowerShell."
   ]
  },
  {
   "cell_type": "code",
   "execution_count": null,
   "id": "6a6c766b",
   "metadata": {
    "polyglot_notebook": {
     "kernelName": "pwsh"
    },
    "vscode": {
     "languageId": "polyglot-notebook"
    }
   },
   "outputs": [],
   "source": [
    "# Create a self-signed certificate\n",
    "$cert = New-SelfSignedCertificate -Subject \"CN=PSSummit2025Cert\" -CertStoreLocation \"Cert:\\CurrentUser\\My\" -KeyExportPolicy Exportable -KeySpec Signature -KeyLength 2048 -KeyAlgorithm RSA -HashAlgorithm SHA256\n",
    "\n",
    "$certPath = \"C:\\gh\\pssummit2025\\PSSummit2025Cert.cer\"\n",
    "\n",
    "Export-Certificate -Cert $cert -FilePath $certPath"
   ]
  },
  {
   "cell_type": "markdown",
   "id": "15940da2",
   "metadata": {},
   "source": [
    "## Step 2: Register the Application\n",
    "\n",
    "First, you're using the PowerShell SDK with delegated access, logging in as an administrator, and creating the app registration. Then, using that app registration, you're able to use the PowerShell SDK with app-only access, allowing for unattended scripts."
   ]
  },
  {
   "cell_type": "code",
   "execution_count": null,
   "id": "a7ce2dea",
   "metadata": {
    "polyglot_notebook": {
     "kernelName": "pwsh"
    },
    "vscode": {
     "languageId": "polyglot-notebook"
    }
   },
   "outputs": [],
   "source": [
    "# Define the certificate path\n",
    "$certPath = \"C:\\gh\\pssummit2025\\PSSummit2025Cert.cer\"\n",
    "\n",
    "# Change to the working directory\n",
    "cd C:\\gh\\pssummit2025\n",
    "\n",
    "# Open the RegisterAppOnly.ps1 script in VS Code\n",
    "# Note: In a notebook, this line will not open VS Code but is kept for reference\n",
    "# code .\\RegisterAppOnly.ps1\n",
    "\n",
    "# Run the script to register the application\n",
    ".\\RegisterAppOnly.ps1 -AppName \"PSSummit2025 Training Script\" -CertPath $certPath"
   ]
  },
  {
   "cell_type": "markdown",
   "id": "14e978c2",
   "metadata": {},
   "source": [
    "## Step 3: Grant Admin Consent\n",
    "\n",
    "Follow the instructions in the output to grant admin consent to the required permissions."
   ]
  },
  {
   "cell_type": "markdown",
   "id": "c2daa3e2",
   "metadata": {},
   "source": [
    "## Step 4: Test Authentication\n",
    "\n",
    "Authenticate using the Connect-MgGraph command in the output to test if you can connect to Microsoft Graph using app-only access."
   ]
  },
  {
   "cell_type": "code",
   "execution_count": null,
   "id": "2b35a60d",
   "metadata": {
    "polyglot_notebook": {
     "kernelName": "pwsh"
    },
    "vscode": {
     "languageId": "polyglot-notebook"
    }
   },
   "outputs": [],
   "source": [
    "# Use the Connect-MgGraph command from the RegisterAppOnly.ps1 output here\n",
    "# For example: Connect-MgGraph -TenantId \"your-tenant-id\" -ClientId \"your-client-id\" -CertificateName \"your-certificate-name\"\n",
    "Connect-MgGraph -ClientId \"6cd390ae-f618-4bf2-82b4-19d57f8006b5\" -TenantId \"dcd0637d-e799-4e34-9ce1-179f1f036bc3\" -CertificateName \"CN=PSSummit2025Cert\"\n",
    "\n",
    "# Check the connection context\n",
    "Get-MgContext"
   ]
  },
  {
   "cell_type": "code",
   "execution_count": null,
   "id": "d3367e65",
   "metadata": {
    "polyglot_notebook": {
     "kernelName": "pwsh"
    },
    "vscode": {
     "languageId": "polyglot-notebook"
    }
   },
   "outputs": [],
   "source": [
    "# Disconnect from Microsoft Graph when finished\n",
    "Disconnect-MgGraph"
   ]
  },
  {
   "cell_type": "markdown",
   "id": "b089549a",
   "metadata": {},
   "source": [
    "## Step 5: Create a Script to List Users and Groups\n",
    "\n",
    "Write a script to list users and groups in your Microsoft 365 tenant. The output should contain only users' and groups' IDs and display names.\n",
    "\n",
    "Don't forget to:\n",
    "- Authenticate in your script using the Connect-MgGraph command from RegisterAppOnly.ps1 output\n",
    "- Disconnect from Microsoft Graph at the end of your script"
   ]
  },
  {
   "cell_type": "code",
   "execution_count": null,
   "id": "d530de98",
   "metadata": {
    "polyglot_notebook": {
     "kernelName": "pwsh"
    },
    "vscode": {
     "languageId": "polyglot-notebook"
    }
   },
   "outputs": [],
   "source": [
    "# Example script to list users and groups in Microsoft 365 tenant\n",
    "\n",
    "# Authentication - replace with your actual values from RegisterAppOnly.ps1 output\n",
    "# Connect-MgGraph -TenantId \"your-tenant-id\" -ClientId \"your-client-id\" -CertificateName \"your-certificate-name\"\n",
    "Connect-MgGraph -ClientId \"6cd390ae-f618-4bf2-82b4-19d57f8006b5\" -TenantId \"dcd0637d-e799-4e34-9ce1-179f1f036bc3\" -CertificateName \"CN=PSSummit2025Cert\"\n",
    "\n",
    "# List users (display only ID and DisplayName)\n",
    "Write-Host \"USERS:\" -ForegroundColor Cyan\n",
    "Write-Host \"======================================================\"\n",
    "Get-MgUser -Top 5 | Format-Table Id, DisplayName\n",
    "\n",
    "# List groups (display only ID and DisplayName)\n",
    "Write-Host \"GROUPS:\" -ForegroundColor Cyan\n",
    "Write-Host \"======================================================\"\n",
    "Get-MgGroup -Top 5 | Format-Table Id, DisplayName\n",
    "\n",
    "# Disconnect from Microsoft Graph\n",
    "Disconnect-MgGraph"
   ]
  }
 ],
 "metadata": {
  "kernelspec": {
   "display_name": ".NET (C#)",
   "language": "C#",
   "name": ".net-csharp"
  },
  "language_info": {
   "name": "csharp"
  },
  "polyglot_notebook": {
   "kernelInfo": {
    "defaultKernelName": "csharp",
    "items": [
     {
      "aliases": [],
      "name": "csharp"
     }
    ]
   }
  }
 },
 "nbformat": 4,
 "nbformat_minor": 5
}
