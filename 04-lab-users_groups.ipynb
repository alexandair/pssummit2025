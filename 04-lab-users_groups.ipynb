{
 "cells": [
  {
   "cell_type": "markdown",
   "id": "eccd9469",
   "metadata": {},
   "source": [
    "# Lab 04: Create Users and Manage Group Membership\n",
    "\n",
    "This lab will guide you through creating users and managing group memberships using the Microsoft Graph PowerShell SDK."
   ]
  },
  {
   "cell_type": "markdown",
   "id": "27cb0e8b",
   "metadata": {},
   "source": [
    "## Required Permissions\n",
    "\n",
    "To complete this lab, you need the following Microsoft Graph API permissions:\n",
    "\n",
    "- **User.ReadWrite.All**: Required to create and manage user accounts\n",
    "- **Group.ReadWrite.All**: Required to create and manage groups and their memberships\n",
    "\n",
    "These are privileged permissions that require administrative consent in your Entra ID tenant."
   ]
  },
  {
   "cell_type": "markdown",
   "id": "a58df952",
   "metadata": {},
   "source": [
    "## Authentication with Microsoft Graph\n",
    "\n",
    "Before you can perform any operations, you need to authenticate to Microsoft Graph using the `Connect-MgGraph` cmdlet. You'll need to sign in with an account that has appropriate administrative privileges.\n",
    "\n",
    "For this lab, we'll use delegated authentication."
   ]
  },
  {
   "cell_type": "code",
   "execution_count": null,
   "metadata": {
    "polyglot_notebook": {
     "kernelName": "pwsh"
    },
    "vscode": {
     "languageId": "polyglot-notebook"
    }
   },
   "outputs": [],
   "source": [
    "# Connect to Microsoft Graph with the required permissions\n",
    "Connect-MgGraph -Scopes \"User.ReadWrite.All\", \"Group.ReadWrite.All\"\n",
    "\n",
    "# Verify the connection and permissions\n",
    "Get-MgContext"
   ]
  },
  {
   "cell_type": "markdown",
   "id": "55a3d947",
   "metadata": {},
   "source": [
    "## Task 1: Create Two Users\n",
    "\n",
    "First, we'll use the `New-MgUser` cmdlet to create two users. We need to set the necessary properties such as `DisplayName`, `UserPrincipalName`, `MailNickname`, and `PasswordProfile`."
   ]
  },
  {
   "cell_type": "code",
   "execution_count": null,
   "id": "8b30845d",
   "metadata": {
    "polyglot_notebook": {
     "kernelName": "pwsh"
    },
    "vscode": {
     "languageId": "polyglot-notebook"
    }
   },
   "outputs": [],
   "source": [
    "# Create first user\n",
    "$passwordProfile = @{\n",
    "    Password = Read-Host -AsSecureString \"Enter a secure password\"\n",
    "}\n",
    "\n",
    "$userParams = @{\n",
    "    DisplayName = \"User One\"\n",
    "    UserPrincipalName = \"userone@<YOURDOMAIN>.onmicrosoft.com\"\n",
    "    MailNickName = \"userone\"\n",
    "    AccountEnabled = $true\n",
    "    PasswordProfile = $passwordProfile\n",
    "}\n",
    "\n",
    "$user1 = New-MgUser @userParams\n",
    "\n",
    "# Display the created user\n",
    "$user1 | Format-List Id, DisplayName, UserPrincipalName"
   ]
  },
  {
   "cell_type": "code",
   "execution_count": null,
   "id": "b031e6bf",
   "metadata": {
    "polyglot_notebook": {
     "kernelName": "pwsh"
    },
    "vscode": {
     "languageId": "polyglot-notebook"
    }
   },
   "outputs": [],
   "source": [
    "# Create second user\n",
    "$passwordProfile = @{\n",
    "    Password = Read-Host -AsSecureString \"Enter a secure password\"\n",
    "}\n",
    "\n",
    "$userParams = @{\n",
    "    DisplayName = \"User Two\"\n",
    "    UserPrincipalName = \"usertwo@<YOURDOMAIN>.onmicrosoft.com\"\n",
    "    MailNickName = \"usertwo\"\n",
    "    AccountEnabled = $true\n",
    "    PasswordProfile = $passwordProfile\n",
    "}\n",
    "\n",
    "$user2 = New-MgUser @userParams\n",
    "\n",
    "# Display the created user\n",
    "$user2 | Format-List Id, DisplayName, UserPrincipalName"
   ]
  },
  {
   "cell_type": "markdown",
   "id": "2ff4de25",
   "metadata": {},
   "source": [
    "## Task 2: Create a Security Group\n",
    "\n",
    "Now, we'll use the `New-MgGroup` cmdlet to create a security group and add the first user as a member."
   ]
  },
  {
   "cell_type": "code",
   "execution_count": null,
   "id": "09019871",
   "metadata": {
    "polyglot_notebook": {
     "kernelName": "pwsh"
    },
    "vscode": {
     "languageId": "polyglot-notebook"
    }
   },
   "outputs": [],
   "source": [
    "# Create a security group with the first user as a member\n",
    "$groupParams = @{\n",
    "    DisplayName = \"SG-Lab04\"\n",
    "    MailEnabled = $false\n",
    "    SecurityEnabled = $true\n",
    "    MailNickname = \"sg-lab04\"\n",
    "    \"Members@odata.bind\" = @(\"https://graph.microsoft.com/v1.0/users/$($user1.Id)\")\n",
    "}\n",
    "$group = New-MgGroup -BodyParameter $groupParams\n",
    "\n",
    "# Display the created group\n",
    "$group | Format-List Id, DisplayName"
   ]
  },
  {
   "cell_type": "markdown",
   "id": "bf5b40b7",
   "metadata": {},
   "source": [
    "## Task 3: Add Second User to the Existing Group\n",
    "\n",
    "Next, we'll use the `New-MgGroupMember` cmdlet to add the second user to the existing group."
   ]
  },
  {
   "cell_type": "code",
   "execution_count": null,
   "id": "36c41945",
   "metadata": {
    "polyglot_notebook": {
     "kernelName": "pwsh"
    },
    "vscode": {
     "languageId": "polyglot-notebook"
    }
   },
   "outputs": [],
   "source": [
    "# Add the second user to the group\n",
    "New-MgGroupMember -GroupId $group.Id -DirectoryObjectId $user2.Id"
   ]
  },
  {
   "cell_type": "markdown",
   "id": "00f430c7",
   "metadata": {},
   "source": [
    "## Task 4: Verify Group Membership\n",
    "\n",
    "Finally, we'll verify that both users are members of the group using the `Get-MgGroupMember` cmdlet."
   ]
  },
  {
   "cell_type": "code",
   "execution_count": null,
   "id": "1143b4bb",
   "metadata": {
    "polyglot_notebook": {
     "kernelName": "pwsh"
    },
    "vscode": {
     "languageId": "polyglot-notebook"
    }
   },
   "outputs": [],
   "source": [
    "# Verify group membership using Get-MgGroupMember\n",
    "Get-MgGroupMember -GroupId $group.Id | Select-Object -ExpandProperty AdditionalProperties"
   ]
  },
  {
   "cell_type": "markdown",
   "id": "1789ce47",
   "metadata": {},
   "source": [
    "## Challenge Task: Alternative Group Membership Verification\n",
    "\n",
    "Try to verify the group membership using the `Get-MgGroup` cmdlet."
   ]
  },
  {
   "cell_type": "code",
   "execution_count": null,
   "id": "5cb024fa",
   "metadata": {
    "polyglot_notebook": {
     "kernelName": "pwsh"
    },
    "vscode": {
     "languageId": "polyglot-notebook"
    }
   },
   "outputs": [],
   "source": [
    "# Alternative way to verify group membership using Get-MgGroup\n",
    "Get-MgGroup -GroupId $group.Id -Expand members | Select-Object -ExpandProperty members |\n",
    "Select-Object -ExpandProperty AdditionalProperties"
   ]
  },
  {
   "cell_type": "markdown",
   "id": "76d91d88",
   "metadata": {},
   "source": [
    "### Explanation of the Get-MgGroup Query\n",
    "\n",
    "The above PowerShell command demonstrates an alternative approach to retrieving group members using the `Get-MgGroup` cmdlet instead of the dedicated `Get-MgGroupMember` cmdlet we used earlier.\n",
    "\n",
    "Here's how it works:\n",
    "\n",
    "1. `Get-MgGroup -GroupId $group.Id` retrieves the group object by its ID (stored in the `$group.Id` variable).\n",
    "\n",
    "2. The `-Expand members` parameter is a crucial part of this command. It uses the OData $expand query parameter to include related entities (in this case, the group members) directly in the response, rather than requiring a separate API call to retrieve them.\n",
    "\n",
    "3. `Select-Object -ExpandProperty members` extracts just the members collection from the group object. Without this, we would get the entire group object with the members as just one property.\n",
    "\n",
    "4. Finally, `Select-Object -ExpandProperty AdditionalProperties` extracts the properties of each member object. In the Microsoft Graph PowerShell SDK, many object properties are stored in the AdditionalProperties property as a generic dictionary. **Note:** When working with generic dictionaries, property names are case-sensitive, so ensure you use the correct casing when accessing specific properties.\n",
    "\n",
    "This approach demonstrates how you can use OData query parameters like $expand directly through the Microsoft Graph PowerShell SDK to optimize your API calls by retrieving related data in a single operation."
   ]
  },
  {
   "cell_type": "markdown",
   "id": "2d6f9819",
   "metadata": {},
   "source": [
    "## Conclusion\n",
    "\n",
    "You have successfully completed the following tasks:\n",
    "\n",
    "1. Created two users in Entra ID\n",
    "2. Created a security group with one initial member\n",
    "3. Added another user to the group\n",
    "4. Verified the group membership using different methods\n",
    "\n",
    "These skills are essential for managing users and groups programmatically using Microsoft Graph PowerShell."
   ]
  }
 ],
 "metadata": {
  "kernelspec": {
   "display_name": ".NET (C#)",
   "language": "C#",
   "name": ".net-csharp"
  },
  "language_info": {
   "name": "csharp"
  },
  "polyglot_notebook": {
   "kernelInfo": {
    "defaultKernelName": "csharp",
    "items": [
     {
      "aliases": [],
      "name": "csharp"
     }
    ]
   }
  }
 },
 "nbformat": 4,
 "nbformat_minor": 5
}
